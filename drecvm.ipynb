{
 "cells": [
  {
   "cell_type": "markdown",
   "id": "c4851321",
   "metadata": {
    "id": "c4851321"
   },
   "source": [
    "![PPGI_UFRJ](https://github.com/zavaleta/Fundamentos_DS/blob/main/imagens/ppgi-ufrj.png?raw=1)\n",
    "# Fundamentos de Ciência de Dados\n",
    "## 2022 - BL2\n",
    "### **Aluno:** Gilberto Gil, Saulo Andrade Almeida, Valquire\n",
    "\n",
    "# Trabalho Final\n",
    "---"
   ]
  },
  {
   "cell_type": "code",
   "execution_count": null,
   "id": "z4oia7HvEySA",
   "metadata": {
    "id": "z4oia7HvEySA"
   },
   "outputs": [],
   "source": [
    "#checking version machine architecture, OS, python and all libs used in this notebook\n",
    "import platform as platform\n",
    "import numpy as np\n",
    "import pandas as pd\n",
    "import os\n",
    "import conda\n",
    "\n",
    "def checkingEnvironmentVersions(details=False):\n",
    "\n",
    "    #definnig version of python and all libs used\n",
    "    HOST_MACHINE_ARCHTECTURE_EXPECTED = 'x86_64'\n",
    "    HOST_MACHINE_OS_EXPECTED = 'Linux'\n",
    "    HOST_MACHINE_PLATFORM = 'Linux-5.15.0-47-generic-x86_64-with-glibc2.31'\n",
    "    CONDA_VERSION_EXPECTED = '4.14.0'\n",
    "    CONDA_DEFAULT_ENV_EXPECTED = 'drecvmenv'\n",
    "    PYTHON_VERSION_EXPECTED = '3.9.12'\n",
    "    NUMPY_LIB_VERSION_EXPECTED = '1.21.5'\n",
    "    PANDAS_LIB_VERSION_EXPECTED = '1.4.2'\n",
    "    \n",
    "\n",
    "    if details: \n",
    "        print('Host Machine Architecture:', platform.machine())\n",
    "        print('Host Machine OS:', platform.system())\n",
    "        print('Conda Version:', conda.__version__)\n",
    "        print('Conda default env:', os.environ['CONDA_DEFAULT_ENV'])\n",
    "        print('Python Version:', platform.python_version())\n",
    "        print('NumPy Lib Version:', np.__version__)\n",
    "        print('Pandas Lib Version:', pd.__version__)\n",
    "        \n",
    "    #checking versions\n",
    "    try:\n",
    "        #checking Machine Architecute expected\n",
    "        assert platform.machine() == HOST_MACHINE_ARCHTECTURE_EXPECTED\n",
    "\n",
    "        #checking OS expected\n",
    "        assert platform.system() == HOST_MACHINE_OS_EXPECTED\n",
    "        \n",
    "        #checking conda version\n",
    "        assert conda.__version__ == CONDA_VERSION_EXPECTED\n",
    "        \n",
    "        #checking conda default environment\n",
    "        assert os.environ['CONDA_DEFAULT_ENV'] == CONDA_DEFAULT_ENV_EXPECTED    \n",
    "\n",
    "        #checking python version\n",
    "        assert platform.python_version() == PYTHON_VERSION_EXPECTED\n",
    "\n",
    "        #checking numpy lib version\n",
    "        assert np.__version__ == NUMPY_LIB_VERSION_EXPECTED  \n",
    "\n",
    "        #checking Pandas lib version\n",
    "        assert pd.__version__ == PANDAS_LIB_VERSION_EXPECTED         \n",
    "    except:\n",
    "        #if any assert fail, or something else get wrong during verification\n",
    "        if details: print('Something is wrong!')\n",
    "        return False\n",
    "    else:\n",
    "        #if pass all asserts\n",
    "        if details: print('All versions are correct!')\n",
    "        return True"
   ]
  },
  {
   "cell_type": "code",
   "execution_count": null,
   "id": "df9be604",
   "metadata": {},
   "outputs": [],
   "source": [
    "def executingExperiment():\n",
    "    print(\"Executando o experimento\")"
   ]
  },
  {
   "cell_type": "code",
   "execution_count": null,
   "id": "d7dfd234",
   "metadata": {},
   "outputs": [],
   "source": [
    "import sys, subprocess, datetime\n",
    "from prov.model import ProvDocument\n",
    "from prov.dot import prov_to_dot\n",
    "from IPython.display import Image\n",
    "\n",
    "def createProvenance():\n",
    "    # Creating an empty provenance document\n",
    "    d1 = ProvDocument()\n",
    "    \n",
    "    agent    = \"Grupo 02: Gil, Saulo, Valquire\"                                         #PROV-Agent\n",
    "    entity   = \"DREs-CVM\"                                                               #PROV-Entity\n",
    "    activity = \"Trabalho final da disciplina Fundamento DS. 2022/2\"                     #PROV-Activity\n",
    "    graph = entity                                                                      #PROV-Graph\n",
    "\n",
    "\n",
    "    # Declaring namespaces for various prefixes used in the excution of Randon Walk Experiment\n",
    "    d1.add_namespace('ufrj', 'http://www.ufrj.br/ppgi/')\n",
    "    d1.add_namespace('foaf', 'http://xmlns.com/foaf/0.1/')\n",
    "\n",
    "    # Adding an entity\n",
    "    entity = \"ufrj:\"+ entity\n",
    "    e1 = d1.entity(entity)\n",
    "\n",
    "    # Adding an Agent \n",
    "    agent = \"foaf:\"+ agent\n",
    "    d1.agent(agent)\n",
    "\n",
    "    # Attributing the execution of the experiment to the PROV-Agent\n",
    "    d1.wasAttributedTo(e1, agent)\n",
    "\n",
    "    # Adding an activity\n",
    "    activity = \"ufrj:\"+ activity\n",
    "    d1.activity(activity)\n",
    "\n",
    "    # Generation\n",
    "    d1.wasGeneratedBy( entity, activity)\n",
    "\n",
    "    # Adding a role to the PROV-Agent and timestamp to dataset\n",
    "    d1.agent(agent, {'prov:hadRole': 'Executor', 'foaf:mbox': 'sauloandrade@gmail.com', 'prov:attributedAtTime': str(datetime.datetime.utcnow())})\n",
    "    d1.entity(entity, {'prov:generatedAtTime': str(datetime.datetime.utcnow())})\n",
    "\n",
    "    ### END - Registering Retrospective Provenance \n",
    "\n",
    "    ### Optional outputs ####\n",
    "\n",
    "    #Generating the outup - a  Provenance Graph\n",
    "    dot = prov_to_dot(d1)\n",
    "    graph = graph +\".png\"\n",
    "    dot.write_png(graph)\n",
    "\n",
    "    #Generating the Serialization - Output XML\n",
    "    d1.serialize(entity + \".xml\", format='xml') \n",
    "\n",
    "    #Generating the Serialization - Output Turtle\n",
    "    d1.serialize(entity + \".ttl\", format='rdf', rdf_format='ttl')\n",
    "    \n",
    "    Image(graph)"
   ]
  },
  {
   "cell_type": "code",
   "execution_count": null,
   "id": "QHY59ABVFRsq",
   "metadata": {
    "colab": {
     "base_uri": "https://localhost:8080/"
    },
    "id": "QHY59ABVFRsq",
    "outputId": "fd3aab1a-4710-44f9-8c14-a9442f8d37bb"
   },
   "outputs": [],
   "source": [
    "def main():\n",
    "    if(checkingEnvironmentVersions(True)):\n",
    "        executingExperiment()\n",
    "        createProvenance()\n",
    "    \n",
    "main()"
   ]
  },
  {
   "cell_type": "code",
   "execution_count": null,
   "id": "e3ebd87d",
   "metadata": {},
   "outputs": [],
   "source": []
  }
 ],
 "metadata": {
  "colab": {
   "name": "drecvm.ipynb",
   "provenance": []
  },
  "kernelspec": {
   "display_name": "Python 3 (ipykernel)",
   "language": "python",
   "name": "python3"
  },
  "language_info": {
   "codemirror_mode": {
    "name": "ipython",
    "version": 3
   },
   "file_extension": ".py",
   "mimetype": "text/x-python",
   "name": "python",
   "nbconvert_exporter": "python",
   "pygments_lexer": "ipython3",
   "version": "3.9.12"
  }
 },
 "nbformat": 4,
 "nbformat_minor": 5
}
